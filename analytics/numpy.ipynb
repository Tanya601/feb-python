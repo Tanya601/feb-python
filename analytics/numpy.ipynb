{
 "cells": [
  {
   "cell_type": "code",
   "execution_count": 1,
   "metadata": {},
   "outputs": [],
   "source": [
    "import numpy as np\n"
   ]
  },
  {
   "cell_type": "code",
   "execution_count": 2,
   "metadata": {},
   "outputs": [
    {
     "name": "stdout",
     "output_type": "stream",
     "text": [
      "[2 6 5 1]\n"
     ]
    }
   ],
   "source": [
    "x1 = np.array([2,6,5,1])\n",
    "print(x1)\n"
   ]
  },
  {
   "cell_type": "code",
   "execution_count": 3,
   "metadata": {},
   "outputs": [
    {
     "name": "stdout",
     "output_type": "stream",
     "text": [
      "<class 'numpy.ndarray'>\n"
     ]
    }
   ],
   "source": [
    "print(type(x1))\n"
   ]
  },
  {
   "cell_type": "markdown",
   "metadata": {},
   "source": [
    "-create\n",
    "-properties\n",
    "-operations and methods"
   ]
  },
  {
   "cell_type": "code",
   "execution_count": 4,
   "metadata": {},
   "outputs": [
    {
     "name": "stdout",
     "output_type": "stream",
     "text": [
      "[1 3 4]\n",
      "(3,)\n",
      "3\n",
      "1\n"
     ]
    }
   ],
   "source": [
    "x1 = np.array([1,3,4])\n",
    "print(x1)\n",
    "print(x1.shape)\n",
    "print(x1.size)\n",
    "print(x1.ndim)"
   ]
  },
  {
   "cell_type": "code",
   "execution_count": 6,
   "metadata": {},
   "outputs": [
    {
     "name": "stdout",
     "output_type": "stream",
     "text": [
      "[[1 2 3 5]\n",
      " [4 5 6 2]]\n",
      "(2, 4)\n",
      "8\n",
      "2\n"
     ]
    }
   ],
   "source": [
    "x2 = np.array([\n",
    "    [1,2,3,5],\n",
    "    [4,5,6,2]\n",
    "])\n",
    "print(x2)\n",
    "print(x2.shape)\n",
    "print(x2.size)\n",
    "print(x2.ndim)\n"
   ]
  },
  {
   "cell_type": "code",
   "execution_count": 9,
   "metadata": {},
   "outputs": [
    {
     "name": "stdout",
     "output_type": "stream",
     "text": [
      "[ 1.    1.25  1.5   1.75  2.    2.25  2.5   2.75  3.    3.25  3.5   3.75\n",
      "  4.    4.25  4.5   4.75  5.    5.25  5.5   5.75  6.    6.25  6.5   6.75\n",
      "  7.    7.25  7.5   7.75  8.    8.25  8.5   8.75  9.    9.25  9.5   9.75\n",
      " 10.   10.25 10.5  10.75]\n",
      "shape => (40,) size=> 40 dimension=> 1\n"
     ]
    }
   ],
   "source": [
    "a = np.arange(1,11,.25)\n",
    "print(a)\n",
    "print('shape =>', a.shape, 'size=>',a.size, 'dimension=>',a.ndim)\n"
   ]
  },
  {
   "cell_type": "code",
   "execution_count": 10,
   "metadata": {},
   "outputs": [
    {
     "name": "stdout",
     "output_type": "stream",
     "text": [
      "[ 1.          1.52631579  2.05263158  2.57894737  3.10526316  3.63157895\n",
      "  4.15789474  4.68421053  5.21052632  5.73684211  6.26315789  6.78947368\n",
      "  7.31578947  7.84210526  8.36842105  8.89473684  9.42105263  9.94736842\n",
      " 10.47368421 11.        ]\n",
      "shape => (20,) size=> 20 dimension=> 1\n"
     ]
    }
   ],
   "source": [
    "b = np.linspace(1,11,20)\n",
    "print(b)\n",
    "print('shape =>', b.shape, 'size=>',b.size, 'dimension=>',b.ndim)\n"
   ]
  },
  {
   "cell_type": "code",
   "execution_count": 11,
   "metadata": {},
   "outputs": [
    {
     "name": "stdout",
     "output_type": "stream",
     "text": [
      "[[-1 -2  1 -5  4]\n",
      " [ 5  3  0 -1 -4]\n",
      " [-4  4  0  1  0]\n",
      " [ 1 -1  3 -2  0]\n",
      " [-1  1 -4 -4 -4]]\n"
     ]
    }
   ],
   "source": [
    "c = np.random.randint(-5, 6, (5,5)) # 5*5 matrix in range of -5 to 5\n",
    "print(c)"
   ]
  },
  {
   "cell_type": "code",
   "execution_count": 12,
   "metadata": {},
   "outputs": [
    {
     "name": "stdout",
     "output_type": "stream",
     "text": [
      "int32\n"
     ]
    }
   ],
   "source": [
    "# check datatype of array elements\n",
    "print(c.dtype)"
   ]
  },
  {
   "cell_type": "code",
   "execution_count": 14,
   "metadata": {},
   "outputs": [
    {
     "data": {
      "text/plain": [
       "array([[ 1.        ,  1.52631579,  2.05263158,  2.57894737],\n",
       "       [ 3.10526316,  3.63157895,  4.15789474,  4.68421053],\n",
       "       [ 5.21052632,  5.73684211,  6.26315789,  6.78947368],\n",
       "       [ 7.31578947,  7.84210526,  8.36842105,  8.89473684],\n",
       "       [ 9.42105263,  9.94736842, 10.47368421, 11.        ]])"
      ]
     },
     "execution_count": 14,
     "metadata": {},
     "output_type": "execute_result"
    }
   ],
   "source": [
    "b.reshape(5,4)"
   ]
  },
  {
   "cell_type": "code",
   "execution_count": 15,
   "metadata": {},
   "outputs": [
    {
     "data": {
      "text/plain": [
       "array([[[ 1.        ,  1.52631579],\n",
       "        [ 2.05263158,  2.57894737],\n",
       "        [ 3.10526316,  3.63157895],\n",
       "        [ 4.15789474,  4.68421053],\n",
       "        [ 5.21052632,  5.73684211]],\n",
       "\n",
       "       [[ 6.26315789,  6.78947368],\n",
       "        [ 7.31578947,  7.84210526],\n",
       "        [ 8.36842105,  8.89473684],\n",
       "        [ 9.42105263,  9.94736842],\n",
       "        [10.47368421, 11.        ]]])"
      ]
     },
     "execution_count": 15,
     "metadata": {},
     "output_type": "execute_result"
    }
   ],
   "source": [
    "b.reshape(2,5,2)"
   ]
  },
  {
   "cell_type": "code",
   "execution_count": 16,
   "metadata": {},
   "outputs": [
    {
     "data": {
      "text/plain": [
       "array([-1, -2,  1, -5,  4,  5,  3,  0, -1, -4, -4,  4,  0,  1,  0,  1, -1,\n",
       "        3, -2,  0, -1,  1, -4, -4, -4])"
      ]
     },
     "execution_count": 16,
     "metadata": {},
     "output_type": "execute_result"
    }
   ],
   "source": [
    "# converting n-dim array to 1-dim array\n",
    "c.flatten()"
   ]
  },
  {
   "cell_type": "code",
   "execution_count": 17,
   "metadata": {},
   "outputs": [
    {
     "name": "stdout",
     "output_type": "stream",
     "text": [
      "[[1 2 3]\n",
      " [4 5 6]]\n",
      "[[5 2 1]\n",
      " [2 2 6]]\n",
      "element-wise addition\n",
      "[[ 6  4  4]\n",
      " [ 6  7 12]]\n",
      "element-wise subtraction\n",
      "[[-4  0  2]\n",
      " [ 2  3  0]]\n",
      "element-wise multiplication\n",
      "[[ 5  4  3]\n",
      " [ 8 10 36]]\n"
     ]
    }
   ],
   "source": [
    "# operations\n",
    "a = np.array([1,2,3,4,5,6]).reshape(2,3)\n",
    "b = np.array([5,2,1,2,2,6]).reshape(2,3)\n",
    "print(a)\n",
    "print(b)\n",
    "print('element-wise addition')\n",
    "ans = a + b\n",
    "print(ans)\n",
    "print('element-wise subtraction')\n",
    "ans = a - b\n",
    "print(ans)\n",
    "print('element-wise multiplication')\n",
    "ans = a * b\n",
    "print(ans)\n"
   ]
  },
  {
   "cell_type": "code",
   "execution_count": 18,
   "metadata": {},
   "outputs": [
    {
     "name": "stdout",
     "output_type": "stream",
     "text": [
      "[[1 2 3]\n",
      " [4 5 6]]\n",
      "[[5 2]\n",
      " [1 2]\n",
      " [2 6]]\n",
      "[[13 24]\n",
      " [37 54]]\n"
     ]
    }
   ],
   "source": [
    "# matrix multiplication - dot product\n",
    "a = np.array([1,2,3,4,5,6]).reshape(2,3)\n",
    "b = np.array([5,2,1,2,2,6]).reshape(3,2)\n",
    "print(a)\n",
    "print(b)\n",
    "print(a@b) #np.dot(1,b)"
   ]
  },
  {
   "cell_type": "code",
   "execution_count": 20,
   "metadata": {},
   "outputs": [
    {
     "name": "stdout",
     "output_type": "stream",
     "text": [
      "[[1 2 3]\n",
      " [4 5 6]]\n",
      "[[1 4]\n",
      " [2 5]\n",
      " [3 6]]\n"
     ]
    }
   ],
   "source": [
    "# transpose of matrix\n",
    "print(a)\n",
    "print(a.T)"
   ]
  },
  {
   "cell_type": "code",
   "execution_count": 21,
   "metadata": {},
   "outputs": [
    {
     "name": "stdout",
     "output_type": "stream",
     "text": [
      "21\n",
      "[ 6 15]\n",
      "[5 7 9]\n",
      "3.5\n",
      "[2. 5.]\n",
      "[2.5 3.5 4.5]\n"
     ]
    }
   ],
   "source": [
    "# statistical operations\n",
    "print(a.sum()) #all item\n",
    "print(a.sum(axis=1)) #row-wise sum\n",
    "print(a.sum(axis=0)) #col-wise sum\n",
    "\n",
    "#same logic can be applied to functions\n",
    "print(a.mean())\n",
    "print(a.mean(axis=1))\n",
    "print(a.mean(axis=0))"
   ]
  },
  {
   "cell_type": "code",
   "execution_count": null,
   "metadata": {},
   "outputs": [],
   "source": [
    "#min, max, arfmin, argmax, std, var, cumsum, \n"
   ]
  },
  {
   "cell_type": "markdown",
   "metadata": {},
   "source": [
    "Slicing"
   ]
  },
  {
   "cell_type": "code",
   "execution_count": 22,
   "metadata": {},
   "outputs": [
    {
     "name": "stdout",
     "output_type": "stream",
     "text": [
      "[[10 10 11 12 13 14 15 16 17 18]\n",
      " [18 19 20 21 22 23 24 25 26 27]\n",
      " [27 28 29 30 31 32 33 34 35 36]\n",
      " [36 37 38 39 40 41 42 43 44 45]\n",
      " [45 46 47 48 49 50 51 52 53 54]\n",
      " [54 55 56 57 58 59 60 61 62 63]\n",
      " [63 64 65 66 67 68 69 70 71 72]\n",
      " [72 73 74 75 76 77 78 79 80 81]\n",
      " [81 82 83 84 85 86 87 88 89 90]\n",
      " [90 91 92 93 94 95 96 97 98 99]]\n"
     ]
    }
   ],
   "source": [
    "x = np.linspace(10,99,100).reshape(10,10).astype(int)\n",
    "print(x)"
   ]
  },
  {
   "cell_type": "markdown",
   "metadata": {},
   "source": [
    "1D slicing\n",
    "\n",
    "x[start : stop : step]\n",
    "\n",
    "2D slicing\n",
    "\n",
    "x[rstart : rstop : rstep ,  cstart : cstop : cstep]\n",
    "\n",
    "example x[1:5, :6]"
   ]
  },
  {
   "cell_type": "code",
   "execution_count": 23,
   "metadata": {},
   "outputs": [
    {
     "name": "stdout",
     "output_type": "stream",
     "text": [
      "[[18 19 20 21 22 23]\n",
      " [27 28 29 30 31 32]\n",
      " [36 37 38 39 40 41]\n",
      " [45 46 47 48 49 50]]\n"
     ]
    }
   ],
   "source": [
    "print(x[1:5, :6])"
   ]
  },
  {
   "cell_type": "code",
   "execution_count": 25,
   "metadata": {},
   "outputs": [
    {
     "name": "stdout",
     "output_type": "stream",
     "text": [
      "[27 28 29 30 31 32 33 34 35 36]\n",
      "[90 91 92 93 94 95 96 97 98 99]\n",
      "[10 18 27 36 45 54 63 72 81 90]\n",
      "[10 19 28 37 46 55 64 73 82 91]\n",
      "[18 27 36 45 54 63 72 81 90 99]\n",
      "[[16 17 18]\n",
      " [25 26 27]\n",
      " [34 35 36]\n",
      " [43 44 45]\n",
      " [52 53 54]\n",
      " [61 62 63]\n",
      " [70 71 72]\n",
      " [79 80 81]\n",
      " [88 89 90]\n",
      " [97 98 99]]\n",
      "[[10 10 11]\n",
      " [18 19 20]\n",
      " [27 28 29]\n",
      " [36 37 38]\n",
      " [45 46 47]\n",
      " [54 55 56]\n",
      " [63 64 65]\n",
      " [72 73 74]\n",
      " [81 82 83]\n",
      " [90 91 92]]\n"
     ]
    }
   ],
   "source": [
    "#3 rd row\n",
    "print(x[2])\n",
    "#last row\n",
    "print(x[-1])\n",
    "#first col\n",
    "print(x[:,0])\n",
    "# 2nd col\n",
    "print(x[:, 1])\n",
    "#last col\n",
    "print(x[:, -1])\n",
    "#last 3 col\n",
    "print(x[:, -3:])\n",
    "# first 3 col\n",
    "print(x[:, :3])"
   ]
  }
 ],
 "metadata": {
  "kernelspec": {
   "display_name": "base",
   "language": "python",
   "name": "python3"
  },
  "language_info": {
   "codemirror_mode": {
    "name": "ipython",
    "version": 3
   },
   "file_extension": ".py",
   "mimetype": "text/x-python",
   "name": "python",
   "nbconvert_exporter": "python",
   "pygments_lexer": "ipython3",
   "version": "3.11.5"
  }
 },
 "nbformat": 4,
 "nbformat_minor": 2
}
