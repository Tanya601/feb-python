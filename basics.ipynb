{
 "cells": [
  {
   "cell_type": "code",
   "execution_count": 1,
   "metadata": {},
   "outputs": [],
   "source": [
    "a = 23\n",
    "b = 3.111\n",
    "c = \"hello\"\n",
    "d = True\n",
    "e = None"
   ]
  },
  {
   "cell_type": "code",
   "execution_count": 3,
   "metadata": {},
   "outputs": [],
   "source": [
    "fruits = [\"apple\", \"banana\", \"cherry\"]\n",
    "coords = (3,3,2)\n",
    "items = {12,5,2,12,3}\n",
    "person = {\"name\":\"John\", \"age\": 36, \"country\": \"Norway\"}"
   ]
  },
  {
   "cell_type": "code",
   "execution_count": 5,
   "metadata": {},
   "outputs": [],
   "source": [
    "a = [2,5,6,12,11,21,22,51]\n"
   ]
  },
  {
   "cell_type": "code",
   "execution_count": 6,
   "metadata": {},
   "outputs": [
    {
     "data": {
      "text/plain": [
       "True"
      ]
     },
     "execution_count": 6,
     "metadata": {},
     "output_type": "execute_result"
    }
   ],
   "source": [
    "11 in a "
   ]
  },
  {
   "cell_type": "code",
   "execution_count": 5,
   "metadata": {},
   "outputs": [],
   "source": [
    "name = input('enter name')\n",
    "college = input(\"college name\")\n",
    "age = int(input('age')) # int casting\n",
    "height = float(input('height')) # float casting\n"
   ]
  },
  {
   "cell_type": "code",
   "execution_count": 10,
   "metadata": {},
   "outputs": [
    {
     "name": "stdout",
     "output_type": "stream",
     "text": [
      "your details\n",
      "y\n",
      "u\n",
      "Age 78\n",
      "Height 67.0 ft\n"
     ]
    }
   ],
   "source": [
    "print(\"your details\")\n",
    "print(name)\n",
    "print(college)\n",
    "print('Age' , age)\n",
    "print('Height', height, 'ft')"
   ]
  },
  {
   "cell_type": "code",
   "execution_count": 12,
   "metadata": {},
   "outputs": [
    {
     "name": "stdout",
     "output_type": "stream",
     "text": [
      "Name: y | college: u | Age: 78\n"
     ]
    }
   ],
   "source": [
    "print('Name:',name, '| college:', college, '| Age:', age)"
   ]
  },
  {
   "cell_type": "code",
   "execution_count": 13,
   "metadata": {},
   "outputs": [
    {
     "name": "stdout",
     "output_type": "stream",
     "text": [
      "My name is y, I am 78 years old\n"
     ]
    }
   ],
   "source": [
    "print(f'My name is {name}, I am {age} years old')"
   ]
  },
  {
   "cell_type": "code",
   "execution_count": 15,
   "metadata": {},
   "outputs": [
    {
     "name": "stdout",
     "output_type": "stream",
     "text": [
      "my name is {name}, I am {age} years old\n"
     ]
    }
   ],
   "source": [
    "print('my name is {name}, I am {age} years old' )"
   ]
  },
  {
   "cell_type": "code",
   "execution_count": 18,
   "metadata": {},
   "outputs": [
    {
     "name": "stdout",
     "output_type": "stream",
     "text": [
      "👉Principal = 12000\n",
      "👉Rate = 3.11\n",
      "👉Time = 12\n",
      "--------------------\n",
      "👉 Simple Interest = 4478.4\n"
     ]
    }
   ],
   "source": [
    "p = int(input('enter a number'))\n",
    "r = float(input('enter  rate'))\n",
    "t = int(input('enter time'))\n",
    "si = p*r*t/100\n",
    "print(f'👉Principal = {p}')\n",
    "print(f'👉Rate = {r}')\n",
    "print(f'👉Time = {t}')\n",
    "print('--'*10)\n",
    "print(f'👉 Simple Interest = {si}')"
   ]
  },
  {
   "cell_type": "code",
   "execution_count": 21,
   "metadata": {},
   "outputs": [
    {
     "name": "stdout",
     "output_type": "stream",
     "text": [
      "👉length = 12\n",
      "👉breath 13\n",
      "--------------------\n",
      "👉Area of rectangle = 156\n"
     ]
    }
   ],
   "source": [
    "l = int(input('enter length:'))\n",
    "b = int(input('enter breath:'))\n",
    "Area = l * b\n",
    "print(f'👉length = {l}')\n",
    "print(f'👉breath {b}')\n",
    "print('--'*10)\n",
    "print(f'👉Area of rectangle = {Area}')"
   ]
  },
  {
   "cell_type": "code",
   "execution_count": null,
   "metadata": {},
   "outputs": [],
   "source": []
  }
 ],
 "metadata": {
  "kernelspec": {
   "display_name": "base",
   "language": "python",
   "name": "python3"
  },
  "language_info": {
   "codemirror_mode": {
    "name": "ipython",
    "version": 3
   },
   "file_extension": ".py",
   "mimetype": "text/x-python",
   "name": "python",
   "nbconvert_exporter": "python",
   "pygments_lexer": "ipython3",
   "version": "3.11.5"
  }
 },
 "nbformat": 4,
 "nbformat_minor": 2
}
