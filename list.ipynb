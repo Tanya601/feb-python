{
 "cells": [
  {
   "cell_type": "code",
   "execution_count": 1,
   "metadata": {},
   "outputs": [
    {
     "ename": "SyntaxError",
     "evalue": "invalid syntax (2246265244.py, line 3)",
     "output_type": "error",
     "traceback": [
      "\u001b[1;36m  Cell \u001b[1;32mIn[1], line 3\u001b[1;36m\u001b[0m\n\u001b[1;33m    list 3 = ['Ravi', 90,102,93,29,102,44,\"b\", 'false',5.08]\u001b[0m\n\u001b[1;37m         ^\u001b[0m\n\u001b[1;31mSyntaxError\u001b[0m\u001b[1;31m:\u001b[0m invalid syntax\n"
     ]
    }
   ],
   "source": [
    "list1 = ['Nikhlesh', 'Aman', 'Rahul', ' Ashish','Akshay','Rishabh']\n",
    "list2 = [1,2,3,4,5, 25, 28, 100]\n",
    "list 3 = ['Ravi', 90,102,93,29,102,44,\"b\", 'false',5.08]"
   ]
  },
  {
   "cell_type": "code",
   "execution_count": 2,
   "metadata": {},
   "outputs": [
    {
     "name": "stdout",
     "output_type": "stream",
     "text": [
      "list1 =  [2, 4, 6, 'A', 10, 'B', 16, 'c', 20]\n"
     ]
    }
   ],
   "source": [
    "list1 = [2,4,6,'A', 10, 'B',16,'c',20]\n",
    "print('list1 = ', list1)\n"
   ]
  },
  {
   "cell_type": "code",
   "execution_count": 4,
   "metadata": {},
   "outputs": [
    {
     "name": "stdout",
     "output_type": "stream",
     "text": [
      "list1[0]= 2\n"
     ]
    }
   ],
   "source": [
    "#first item-\n",
    "print('list1[0]=',list1[0])\n"
   ]
  },
  {
   "cell_type": "code",
   "execution_count": 5,
   "metadata": {},
   "outputs": [
    {
     "name": "stdout",
     "output_type": "stream",
     "text": [
      "list1[2]= list[2]\n"
     ]
    }
   ],
   "source": [
    "print('list1[2]=',list[2])"
   ]
  },
  {
   "cell_type": "code",
   "execution_count": 9,
   "metadata": {},
   "outputs": [
    {
     "data": {
      "text/plain": [
       "13"
      ]
     },
     "execution_count": 9,
     "metadata": {},
     "output_type": "execute_result"
    }
   ],
   "source": [
    "fruits = ['Apple', 'Banana','Cherry', 'orange', 'plum', 'blueberry','papaya','pear', 'strawberry', ' pineapple', 'watermelon', 'grapes', 'guava']\n",
    "len(fruits)"
   ]
  },
  {
   "cell_type": "code",
   "execution_count": 12,
   "metadata": {},
   "outputs": [
    {
     "data": {
      "text/plain": [
       "['Apple', 'Banana', 'Cherry', 'dragonfruit', 'plum']"
      ]
     },
     "execution_count": 12,
     "metadata": {},
     "output_type": "execute_result"
    }
   ],
   "source": [
    "fruits[:5]"
   ]
  },
  {
   "cell_type": "code",
   "execution_count": 18,
   "metadata": {},
   "outputs": [
    {
     "data": {
      "text/plain": [
       "['Apple',\n",
       " 'Banana',\n",
       " 'Cherry',\n",
       " 'dragonfruit',\n",
       " 'plum',\n",
       " 'blueberry',\n",
       " 'papaya',\n",
       " 'pear',\n",
       " 'strawberry',\n",
       " ' pineapple',\n",
       " 'watermelon',\n",
       " 'grapes',\n",
       " 'guava']"
      ]
     },
     "execution_count": 18,
     "metadata": {},
     "output_type": "execute_result"
    }
   ],
   "source": [
    "fruits[3] = 'dragonfruit'\n",
    "fruits"
   ]
  },
  {
   "cell_type": "code",
   "execution_count": 13,
   "metadata": {},
   "outputs": [
    {
     "data": {
      "text/plain": [
       "'guava'"
      ]
     },
     "execution_count": 13,
     "metadata": {},
     "output_type": "execute_result"
    }
   ],
   "source": [
    "fruits[-1]"
   ]
  },
  {
   "cell_type": "code",
   "execution_count": 14,
   "metadata": {},
   "outputs": [
    {
     "data": {
      "text/plain": [
       "['guava',\n",
       " 'grapes',\n",
       " 'watermelon',\n",
       " ' pineapple',\n",
       " 'strawberry',\n",
       " 'pear',\n",
       " 'papaya',\n",
       " 'blueberry',\n",
       " 'plum',\n",
       " 'dragonfruit',\n",
       " 'Cherry',\n",
       " 'Banana',\n",
       " 'Apple']"
      ]
     },
     "execution_count": 14,
     "metadata": {},
     "output_type": "execute_result"
    }
   ],
   "source": [
    "fruits[::-1]"
   ]
  },
  {
   "cell_type": "code",
   "execution_count": null,
   "metadata": {},
   "outputs": [],
   "source": [
    "fruits."
   ]
  },
  {
   "cell_type": "code",
   "execution_count": 20,
   "metadata": {},
   "outputs": [
    {
     "data": {
      "text/plain": [
       "['apple', 'Banana', 'Cherry', 'Guava']"
      ]
     },
     "execution_count": 20,
     "metadata": {},
     "output_type": "execute_result"
    }
   ],
   "source": [
    "fruits = []\n",
    "fruits.append(\"apple\")\n",
    "fruits.append(\"Banana\")\n",
    "fruits.append(\"Cherry\")\n",
    "fruits.append(\"Guava\")\n",
    "fruits"
   ]
  },
  {
   "cell_type": "code",
   "execution_count": 23,
   "metadata": {},
   "outputs": [
    {
     "name": "stdout",
     "output_type": "stream",
     "text": [
      "total downloaded content 11 items\n",
      "total documents content 7 items\n"
     ]
    }
   ],
   "source": [
    "import os\n",
    "content1 = os.listdir('c:/Users/Tanya/Downloads')\n",
    "content2 = os.listdir('c:/Users/Tanya/Documents')\n",
    "print(f\"total downloaded content {len(content1)} items\")\n",
    "print(f\"total documents content {len(content2)} items\")"
   ]
  },
  {
   "cell_type": "code",
   "execution_count": 24,
   "metadata": {},
   "outputs": [
    {
     "name": "stdout",
     "output_type": "stream",
     "text": [
      "total content 18 items\n"
     ]
    }
   ],
   "source": [
    "all_content = content1 + content2 #list concatenation\n",
    "print(f\"total content {len(all_content)} items\")\n"
   ]
  },
  {
   "cell_type": "code",
   "execution_count": 26,
   "metadata": {},
   "outputs": [
    {
     "name": "stdout",
     "output_type": "stream",
     "text": [
      "['DEC-CAPSULE', 'Git-2.43.0-64-bit.exe', 'Miniconda3-latest-Windows-x86_64.exe', 'My Music', 'My Pictures', 'My Videos', 'Test-capsule', 'VSCodeUserSetup-x64-1.85.1.exe', 'archive (2).zip', 'archive (3).zip', 'archive.zip', 'desktop.ini', 'desktop.ini', 'feb-python', 'python-3.12.1-amd64 (1).exe', 'python-3.12.1-amd64 (2).exe', 'python-3.12.1-amd64.exe', 'sp142614.exe']\n"
     ]
    }
   ],
   "source": [
    "all_content.sort() #sort the list (ascending order)\n",
    "print(all_content)"
   ]
  },
  {
   "cell_type": "code",
   "execution_count": 28,
   "metadata": {},
   "outputs": [
    {
     "name": "stdout",
     "output_type": "stream",
     "text": [
      "['sp142614.exe', 'python-3.12.1-amd64.exe', 'python-3.12.1-amd64 (2).exe', 'python-3.12.1-amd64 (1).exe', 'feb-python', 'desktop.ini', 'desktop.ini', 'archive.zip', 'archive (3).zip', 'archive (2).zip', 'VSCodeUserSetup-x64-1.85.1.exe', 'Test-capsule', 'My Videos', 'My Pictures', 'My Music', 'Miniconda3-latest-Windows-x86_64.exe', 'Git-2.43.0-64-bit.exe', 'DEC-CAPSULE']\n"
     ]
    }
   ],
   "source": [
    "all_content.sort(reverse = True)\n",
    "print(all_content)"
   ]
  }
 ],
 "metadata": {
  "kernelspec": {
   "display_name": "base",
   "language": "python",
   "name": "python3"
  },
  "language_info": {
   "codemirror_mode": {
    "name": "ipython",
    "version": 3
   },
   "file_extension": ".py",
   "mimetype": "text/x-python",
   "name": "python",
   "nbconvert_exporter": "python",
   "pygments_lexer": "ipython3",
   "version": "3.11.5"
  }
 },
 "nbformat": 4,
 "nbformat_minor": 2
}
