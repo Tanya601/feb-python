{
 "cells": [
  {
   "cell_type": "code",
   "execution_count": 1,
   "metadata": {},
   "outputs": [],
   "source": [
    "data = [\n",
    "    'words of radiance' #title\n",
    "    'Brandon Sanderson'# author\n",
    "    '2014' #year\n",
    "    '978-0-7653-2635-5'#isbn\n",
    "    'The Stormlight Archieve'#series\n",
    "    'Epic fantasy'#genre\n",
    "    'Hardcover'#format\n",
    "    '1887'#pages\n",
    "    'Tor Books'#publisher\n",
    "]"
   ]
  },
  {
   "cell_type": "code",
   "execution_count": 6,
   "metadata": {},
   "outputs": [],
   "source": [
    "better_data = {\n",
    "    'title':'words of radiance',\n",
    "    'author':'Brandon Sanderson',\n",
    "    'year':'2014',\n",
    "    'isbn':'978-0-7653-2635-5',\n",
    "    'series':'The Stormlight Archieve',\n",
    "    'genre':'Epic fantasy',\n",
    "    'format':'Hardcover',\n",
    "    'pages': '1887',\n",
    "    'publisher':'Tor Books',\n",
    "}"
   ]
  },
  {
   "cell_type": "code",
   "execution_count": 8,
   "metadata": {},
   "outputs": [
    {
     "name": "stdout",
     "output_type": "stream",
     "text": [
      "words of radiance\n",
      "1887\n",
      "Epic fantasy Hardcover\n",
      "None\n",
      "Brandon Sanderson\n",
      "words of radiance\n"
     ]
    }
   ],
   "source": [
    "print(better_data['title'])\n",
    "print(better_data['pages'])\n",
    "print(better_data['genre'], better_data['format'])\n",
    "print(better_data.get('writer'))\n",
    "print(better_data.get('author'))\n",
    "print(better_data.get('title'))"
   ]
  },
  {
   "cell_type": "code",
   "execution_count": 9,
   "metadata": {},
   "outputs": [
    {
     "name": "stdout",
     "output_type": "stream",
     "text": [
      "{'tesla', 'apple', 'facebook', 'google', 'microsoft'}\n",
      "{'tesla', 'apple', 'facebook', 'google', 'microsoft'}\n"
     ]
    }
   ],
   "source": [
    "#set operations\n",
    "#A U B -> A.union(B)\n",
    "a = {'apple','google','microsoft',}\n",
    "b = {'google','apple','facebook','tesla'}\n",
    "print(a.union(b))\n",
    "print(a | b ) # union operator"
   ]
  },
  {
   "cell_type": "code",
   "execution_count": 10,
   "metadata": {},
   "outputs": [
    {
     "name": "stdout",
     "output_type": "stream",
     "text": [
      "{'google', 'apple'}\n",
      "{'google', 'apple'}\n"
     ]
    }
   ],
   "source": [
    "# intersection -> A.intersection(B)\n",
    "print(a.intersection(b))\n",
    "print(a & b) #intersection operator"
   ]
  },
  {
   "cell_type": "code",
   "execution_count": 11,
   "metadata": {},
   "outputs": [
    {
     "name": "stdout",
     "output_type": "stream",
     "text": [
      "{'microsoft'}\n",
      "{'microsoft'}\n",
      "{'tesla', 'facebook'}\n"
     ]
    }
   ],
   "source": [
    "#difference -> A.difference(B)\n",
    "print(a.difference(b))\n",
    "print(a - b) #difference operator - unique elements in a only\n",
    "print(b - a) #unique elements in b only\n"
   ]
  },
  {
   "cell_type": "code",
   "execution_count": 12,
   "metadata": {},
   "outputs": [
    {
     "name": "stdout",
     "output_type": "stream",
     "text": [
      "{'microsoft'}\n",
      "{'microsoft'}\n",
      "{'tesla', 'facebook'}\n",
      "set()\n"
     ]
    }
   ],
   "source": [
    "# difference -> A.difference(a)\n",
    "print(a.difference(b))\n",
    "c = {'google', 'apple', 'microsoft'}\n",
    "print(a-b) # difference operator - unique elements in a only\n",
    "print(b-a) # difference operator - unique elements in b only\n",
    "print(c-a) #unique elements in c only"
   ]
  },
  {
   "cell_type": "code",
   "execution_count": 13,
   "metadata": {},
   "outputs": [
    {
     "name": "stdout",
     "output_type": "stream",
     "text": [
      "{'tesla', 'facebook', 'microsoft'}\n",
      "{'tesla', 'facebook', 'microsoft'}\n"
     ]
    }
   ],
   "source": [
    "#symmetric difference -> A.symmetric_difference(B)\n",
    "print(a.symmetric_difference(b))\n",
    "print(a^b) #symmetric difference operator "
   ]
  },
  {
   "cell_type": "markdown",
   "metadata": {},
   "source": [
    "question that has set usage"
   ]
  },
  {
   "cell_type": "code",
   "execution_count": 14,
   "metadata": {},
   "outputs": [
    {
     "name": "stdout",
     "output_type": "stream",
     "text": [
      "[12, 34, 56, 78, 12, 34, 56, 78, 90, 12, 34, 56, 78, 90]\n",
      "[34, 12, 78, 56, 90]\n"
     ]
    }
   ],
   "source": [
    "#wap to remove duplicates from a list\n",
    "x = [12,34,56,78,12,34,56,78,90,12,34,56,78,90]\n",
    "print(x)\n",
    "x = list(set(x))\n",
    "print(x)"
   ]
  },
  {
   "cell_type": "code",
   "execution_count": 15,
   "metadata": {},
   "outputs": [
    {
     "name": "stdout",
     "output_type": "stream",
     "text": [
      "[5, 6, 7, 8, 9]\n"
     ]
    }
   ],
   "source": [
    "#wap to find common elements between two lists\n",
    "x = [1,2,3,4,5,6,7,8,9]\n",
    "y = [5,6,7,8,9,10,11,12,13]\n",
    "x = set(x)\n",
    "y = set(y)\n",
    "print(list(x.intersection(y)))"
   ]
  },
  {
   "cell_type": "markdown",
   "metadata": {},
   "source": [
    "* tuple\n",
    "    - immutable\n",
    "    - indexed, ordered\n",
    "    - heterogenous\n",
    "    - paranthesis '()'\n",
    "    - python's default data structure\n",
    "\n",
    "* sets\n",
    "    - mutable\n",
    "    - unique elements ony\n",
    "    - unordered\n",
    "    - can only hold immutable elements\n",
    "    - curly braces{}\n",
    "    - used for set operations: union, intersection, difference"
   ]
  },
  {
   "cell_type": "code",
   "execution_count": 16,
   "metadata": {},
   "outputs": [
    {
     "name": "stdout",
     "output_type": "stream",
     "text": [
      "(1, 2, 3, 4, 5, 5)\n"
     ]
    }
   ],
   "source": [
    "a = 1,2,3,4,5,5\n",
    "print(a)"
   ]
  },
  {
   "cell_type": "code",
   "execution_count": 36,
   "metadata": {},
   "outputs": [
    {
     "name": "stdout",
     "output_type": "stream",
     "text": [
      "{1, 2, 3, 4, 5, 6}\n"
     ]
    }
   ],
   "source": [
    "a = {1,2,3,4,5,6,1,2,3,4}\n",
    "print(a)"
   ]
  },
  {
   "cell_type": "code",
   "execution_count": 37,
   "metadata": {},
   "outputs": [
    {
     "name": "stdout",
     "output_type": "stream",
     "text": [
      "{1, 2, 3, 4, 5, 6, 7}\n"
     ]
    }
   ],
   "source": [
    "a.add(7)\n",
    "a.add(4)\n",
    "print(a)"
   ]
  },
  {
   "cell_type": "code",
   "execution_count": 39,
   "metadata": {},
   "outputs": [
    {
     "name": "stdout",
     "output_type": "stream",
     "text": [
      "{1, 2, 3, 5, 6, 7, 8, 9, 21, 22, 23}\n"
     ]
    }
   ],
   "source": [
    "\n",
    "a.discard(4)\n",
    "print(a)"
   ]
  },
  {
   "cell_type": "code",
   "execution_count": 38,
   "metadata": {},
   "outputs": [
    {
     "name": "stdout",
     "output_type": "stream",
     "text": [
      "{1, 2, 3, 4, 5, 6, 7, 8, 9, 21, 22, 23}\n"
     ]
    }
   ],
   "source": [
    "\n",
    "a.update({4,5,6,7,8,9})\n",
    "a.update({21,22,23})\n",
    "print(a)\n",
    "\n"
   ]
  },
  {
   "cell_type": "code",
   "execution_count": 41,
   "metadata": {},
   "outputs": [
    {
     "name": "stdout",
     "output_type": "stream",
     "text": [
      "1 2 3 5 6 7 8 9 21 22 23 "
     ]
    }
   ],
   "source": [
    "#transverse set\n",
    "for i in a:\n",
    "    print(i, end=\" \")"
   ]
  },
  {
   "cell_type": "code",
   "execution_count": 1,
   "metadata": {},
   "outputs": [],
   "source": [
    "student = {\n",
    "    'name': 'John',\n",
    "    'age': 25,\n",
    "    'course': ['Math', 'CompSci']\n",
    "}"
   ]
  },
  {
   "cell_type": "markdown",
   "metadata": {},
   "source": [
    "\n",
    "#transverse dictionary\n",
    "* normal-> giveonly keys\n",
    "*c"
   ]
  },
  {
   "cell_type": "code",
   "execution_count": 2,
   "metadata": {},
   "outputs": [
    {
     "name": "stdout",
     "output_type": "stream",
     "text": [
      "name\n",
      "age\n",
      "course\n"
     ]
    }
   ],
   "source": [
    "for i in student:\n",
    "    print(i)"
   ]
  },
  {
   "cell_type": "code",
   "execution_count": 6,
   "metadata": {},
   "outputs": [
    {
     "name": "stdout",
     "output_type": "stream",
     "text": [
      "name -> John\n",
      "age -> 25\n",
      "course -> ['Math', 'CompSci']\n"
     ]
    }
   ],
   "source": [
    "for k,v in student.items():\n",
    "    print(f'{k} -> {v}')"
   ]
  },
  {
   "cell_type": "code",
   "execution_count": 8,
   "metadata": {},
   "outputs": [
    {
     "data": {
      "text/plain": [
       "{'name': 'John Cena', 'age': 25, 'course': ['Math', 'CompSci']}"
      ]
     },
     "execution_count": 8,
     "metadata": {},
     "output_type": "execute_result"
    }
   ],
   "source": [
    "#update a value\n",
    "student['name'] = 'John Cena'#existing key is to update value\n",
    "student"
   ]
  },
  {
   "cell_type": "code",
   "execution_count": 12,
   "metadata": {},
   "outputs": [
    {
     "data": {
      "text/plain": [
       "{'name': 'John Cena',\n",
       " 'age': 25,\n",
       " 'course': ['Math', 'CompSci'],\n",
       " 'college': 'ABCDU'}"
      ]
     },
     "execution_count": 12,
     "metadata": {},
     "output_type": "execute_result"
    }
   ],
   "source": [
    "#adding a new value\n",
    "student['college'] = 'ABCDU' # new key is to add value\n",
    "student\n"
   ]
  },
  {
   "cell_type": "code",
   "execution_count": 16,
   "metadata": {},
   "outputs": [
    {
     "data": {
      "text/plain": [
       "{'name': 'John Cena',\n",
       " 'age': 25,\n",
       " 'course': ['Math', 'CompSci'],\n",
       " 'college': 'ABCDU',\n",
       " 'rollnumber': '54'}"
      ]
     },
     "execution_count": 16,
     "metadata": {},
     "output_type": "execute_result"
    }
   ],
   "source": [
    "# adding a new value through user\n",
    "rollnumber = input('Enter roll number')\n",
    "student['rollnumber'] = rollnumber\n",
    "student"
   ]
  },
  {
   "cell_type": "code",
   "execution_count": 17,
   "metadata": {},
   "outputs": [
    {
     "data": {
      "text/plain": [
       "25"
      ]
     },
     "execution_count": 17,
     "metadata": {},
     "output_type": "execute_result"
    }
   ],
   "source": [
    "#removing a value - pop(key)\n",
    "student.pop('age')"
   ]
  },
  {
   "cell_type": "code",
   "execution_count": 18,
   "metadata": {},
   "outputs": [
    {
     "data": {
      "text/plain": [
       "{'name': 'John Cena',\n",
       " 'course': ['Math', 'CompSci'],\n",
       " 'college': 'ABCDU',\n",
       " 'rollnumber': '54'}"
      ]
     },
     "execution_count": 18,
     "metadata": {},
     "output_type": "execute_result"
    }
   ],
   "source": [
    "student"
   ]
  },
  {
   "cell_type": "code",
   "execution_count": 19,
   "metadata": {},
   "outputs": [
    {
     "data": {
      "text/plain": [
       "dict_items([('name', 'John Cena'), ('course', ['Math', 'CompSci']), ('college', 'ABCDU'), ('rollnumber', '54')])"
      ]
     },
     "execution_count": 19,
     "metadata": {},
     "output_type": "execute_result"
    }
   ],
   "source": [
    "#extracting keys and value\n",
    "student.keys()\n",
    "student.values()\n",
    "student.items()"
   ]
  },
  {
   "cell_type": "code",
   "execution_count": 20,
   "metadata": {},
   "outputs": [
    {
     "data": {
      "text/plain": [
       "dict_keys(['name', 'course', 'college', 'rollnumber'])"
      ]
     },
     "execution_count": 20,
     "metadata": {},
     "output_type": "execute_result"
    }
   ],
   "source": [
    "student.keys()"
   ]
  },
  {
   "cell_type": "code",
   "execution_count": 21,
   "metadata": {},
   "outputs": [
    {
     "data": {
      "text/plain": [
       "dict_values(['John Cena', ['Math', 'CompSci'], 'ABCDU', '54'])"
      ]
     },
     "execution_count": 21,
     "metadata": {},
     "output_type": "execute_result"
    }
   ],
   "source": [
    "student.values()"
   ]
  },
  {
   "cell_type": "code",
   "execution_count": 22,
   "metadata": {},
   "outputs": [
    {
     "data": {
      "text/plain": [
       "dict_items([('name', 'John Cena'), ('course', ['Math', 'CompSci']), ('college', 'ABCDU'), ('rollnumber', '54')])"
      ]
     },
     "execution_count": 22,
     "metadata": {},
     "output_type": "execute_result"
    }
   ],
   "source": [
    "student.items()"
   ]
  }
 ],
 "metadata": {
  "kernelspec": {
   "display_name": "base",
   "language": "python",
   "name": "python3"
  },
  "language_info": {
   "codemirror_mode": {
    "name": "ipython",
    "version": 3
   },
   "file_extension": ".py",
   "mimetype": "text/x-python",
   "name": "python",
   "nbconvert_exporter": "python",
   "pygments_lexer": "ipython3",
   "version": "3.11.5"
  }
 },
 "nbformat": 4,
 "nbformat_minor": 2
}
